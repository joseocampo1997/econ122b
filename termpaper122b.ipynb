{
 "cells": [
  {
   "cell_type": "markdown",
   "id": "fe92f348",
   "metadata": {},
   "source": [
    "# The following includes necessary imports for our regression and figures illustrating our data and findings."
   ]
  },
  {
   "cell_type": "code",
   "execution_count": 1,
   "id": "69f80d3c",
   "metadata": {},
   "outputs": [],
   "source": [
    "import statsmodels.api as sm"
   ]
  },
  {
   "cell_type": "code",
   "execution_count": 2,
   "id": "a67ad8ef",
   "metadata": {},
   "outputs": [],
   "source": [
    "from statsmodels.iolib.summary2 import summary_col"
   ]
  },
  {
   "cell_type": "code",
   "execution_count": 3,
   "id": "2b7cb8cf",
   "metadata": {},
   "outputs": [],
   "source": [
    "import matplotlib.pyplot as plt"
   ]
  },
  {
   "cell_type": "code",
   "execution_count": 4,
   "id": "5a9fdc6b",
   "metadata": {},
   "outputs": [],
   "source": [
    "%matplotlib inline"
   ]
  },
  {
   "cell_type": "code",
   "execution_count": 5,
   "id": "4e581502",
   "metadata": {},
   "outputs": [],
   "source": [
    "import pandas as pd"
   ]
  },
  {
   "cell_type": "code",
   "execution_count": 6,
   "id": "c13b3d72",
   "metadata": {},
   "outputs": [],
   "source": [
    "import numpy as np"
   ]
  },
  {
   "cell_type": "markdown",
   "id": "0282e4ff",
   "metadata": {},
   "source": [
    "# The following sections purpose is to access the data for the folloiwng procedures. Data we will access includes the Effective Federal Funds Rate, Personal Savings Rate, and Real Gross Private Investment Data."
   ]
  },
  {
   "cell_type": "code",
   "execution_count": 7,
   "id": "31eb2258",
   "metadata": {},
   "outputs": [],
   "source": [
    "# The following code is to access our Personal Savings Rate data. \n",
    "#It will be accessed directly from Federal Reserve Economic Data (FRED)."
   ]
  },
  {
   "cell_type": "code",
   "execution_count": 12,
   "id": "c7c2a1d8",
   "metadata": {},
   "outputs": [
    {
     "data": {
      "text/html": [
       "<div>\n",
       "<style scoped>\n",
       "    .dataframe tbody tr th:only-of-type {\n",
       "        vertical-align: middle;\n",
       "    }\n",
       "\n",
       "    .dataframe tbody tr th {\n",
       "        vertical-align: top;\n",
       "    }\n",
       "\n",
       "    .dataframe thead th {\n",
       "        text-align: right;\n",
       "    }\n",
       "</style>\n",
       "<table border=\"1\" class=\"dataframe\">\n",
       "  <thead>\n",
       "    <tr style=\"text-align: right;\">\n",
       "      <th></th>\n",
       "      <th>Date</th>\n",
       "      <th>Personal Savings Rate</th>\n",
       "    </tr>\n",
       "  </thead>\n",
       "  <tbody>\n",
       "    <tr>\n",
       "      <th>0</th>\n",
       "      <td>1959-01-01</td>\n",
       "      <td>11.3</td>\n",
       "    </tr>\n",
       "    <tr>\n",
       "      <th>1</th>\n",
       "      <td>1959-02-01</td>\n",
       "      <td>10.6</td>\n",
       "    </tr>\n",
       "    <tr>\n",
       "      <th>2</th>\n",
       "      <td>1959-03-01</td>\n",
       "      <td>10.3</td>\n",
       "    </tr>\n",
       "    <tr>\n",
       "      <th>3</th>\n",
       "      <td>1959-04-01</td>\n",
       "      <td>11.2</td>\n",
       "    </tr>\n",
       "    <tr>\n",
       "      <th>4</th>\n",
       "      <td>1959-05-01</td>\n",
       "      <td>10.6</td>\n",
       "    </tr>\n",
       "  </tbody>\n",
       "</table>\n",
       "</div>"
      ],
      "text/plain": [
       "         Date  Personal Savings Rate\n",
       "0  1959-01-01                   11.3\n",
       "1  1959-02-01                   10.6\n",
       "2  1959-03-01                   10.3\n",
       "3  1959-04-01                   11.2\n",
       "4  1959-05-01                   10.6"
      ]
     },
     "execution_count": 12,
     "metadata": {},
     "output_type": "execute_result"
    }
   ],
   "source": [
    "url_savings = 'https://fred.stlouisfed.org/series/PSAVERT/downloaddata/PSAVERT.csv'\n",
    "data_savings = pd.read_csv(url_savings, parse_dates=True)\n",
    "data_savings.columns= ['Date','Personal Savings Rate']\n",
    "data_savings.head()"
   ]
  },
  {
   "cell_type": "code",
   "execution_count": 9,
   "id": "21a6b72b",
   "metadata": {},
   "outputs": [],
   "source": [
    "# The following code is to access our Federal Funds Rate data. \n",
    "#It will be accessed directly from Federal Reserve Economic Data (FRED)."
   ]
  },
  {
   "cell_type": "code",
   "execution_count": 13,
   "id": "0ba51969",
   "metadata": {},
   "outputs": [
    {
     "data": {
      "text/html": [
       "<div>\n",
       "<style scoped>\n",
       "    .dataframe tbody tr th:only-of-type {\n",
       "        vertical-align: middle;\n",
       "    }\n",
       "\n",
       "    .dataframe tbody tr th {\n",
       "        vertical-align: top;\n",
       "    }\n",
       "\n",
       "    .dataframe thead th {\n",
       "        text-align: right;\n",
       "    }\n",
       "</style>\n",
       "<table border=\"1\" class=\"dataframe\">\n",
       "  <thead>\n",
       "    <tr style=\"text-align: right;\">\n",
       "      <th></th>\n",
       "      <th>Date</th>\n",
       "      <th>Federal Funds Rate</th>\n",
       "    </tr>\n",
       "  </thead>\n",
       "  <tbody>\n",
       "    <tr>\n",
       "      <th>0</th>\n",
       "      <td>1954-07-01</td>\n",
       "      <td>0.80</td>\n",
       "    </tr>\n",
       "    <tr>\n",
       "      <th>1</th>\n",
       "      <td>1954-08-01</td>\n",
       "      <td>1.22</td>\n",
       "    </tr>\n",
       "    <tr>\n",
       "      <th>2</th>\n",
       "      <td>1954-09-01</td>\n",
       "      <td>1.07</td>\n",
       "    </tr>\n",
       "    <tr>\n",
       "      <th>3</th>\n",
       "      <td>1954-10-01</td>\n",
       "      <td>0.85</td>\n",
       "    </tr>\n",
       "    <tr>\n",
       "      <th>4</th>\n",
       "      <td>1954-11-01</td>\n",
       "      <td>0.83</td>\n",
       "    </tr>\n",
       "  </tbody>\n",
       "</table>\n",
       "</div>"
      ],
      "text/plain": [
       "         Date  Federal Funds Rate\n",
       "0  1954-07-01                0.80\n",
       "1  1954-08-01                1.22\n",
       "2  1954-09-01                1.07\n",
       "3  1954-10-01                0.85\n",
       "4  1954-11-01                0.83"
      ]
     },
     "execution_count": 13,
     "metadata": {},
     "output_type": "execute_result"
    }
   ],
   "source": [
    "url_fed = 'https://fred.stlouisfed.org/series/FEDFUNDS/downloaddata/FEDFUNDS.csv'\n",
    "data_fed= pd.read_csv(url_fed, parse_dates=True)\n",
    "data_fed.columns=['Date', 'Federal Funds Rate']\n",
    "data_fed.head()"
   ]
  },
  {
   "cell_type": "code",
   "execution_count": 14,
   "id": "69d772ce",
   "metadata": {},
   "outputs": [],
   "source": [
    "# The following code is to access our Real Gross Private Investment data. \n",
    "#It will be accessed directly from Federal Reserve Economic Data (FRED)."
   ]
  },
  {
   "cell_type": "code",
   "execution_count": 16,
   "id": "96b19868",
   "metadata": {},
   "outputs": [
    {
     "data": {
      "text/html": [
       "<div>\n",
       "<style scoped>\n",
       "    .dataframe tbody tr th:only-of-type {\n",
       "        vertical-align: middle;\n",
       "    }\n",
       "\n",
       "    .dataframe tbody tr th {\n",
       "        vertical-align: top;\n",
       "    }\n",
       "\n",
       "    .dataframe thead th {\n",
       "        text-align: right;\n",
       "    }\n",
       "</style>\n",
       "<table border=\"1\" class=\"dataframe\">\n",
       "  <thead>\n",
       "    <tr style=\"text-align: right;\">\n",
       "      <th></th>\n",
       "      <th>Date</th>\n",
       "      <th>Real Gross Private Investment</th>\n",
       "    </tr>\n",
       "  </thead>\n",
       "  <tbody>\n",
       "    <tr>\n",
       "      <th>0</th>\n",
       "      <td>1947-01-01</td>\n",
       "      <td>218.091</td>\n",
       "    </tr>\n",
       "    <tr>\n",
       "      <th>1</th>\n",
       "      <td>1947-04-01</td>\n",
       "      <td>201.386</td>\n",
       "    </tr>\n",
       "    <tr>\n",
       "      <th>2</th>\n",
       "      <td>1947-07-01</td>\n",
       "      <td>195.461</td>\n",
       "    </tr>\n",
       "    <tr>\n",
       "      <th>3</th>\n",
       "      <td>1947-10-01</td>\n",
       "      <td>233.284</td>\n",
       "    </tr>\n",
       "    <tr>\n",
       "      <th>4</th>\n",
       "      <td>1948-01-01</td>\n",
       "      <td>257.220</td>\n",
       "    </tr>\n",
       "  </tbody>\n",
       "</table>\n",
       "</div>"
      ],
      "text/plain": [
       "         Date  Real Gross Private Investment\n",
       "0  1947-01-01                        218.091\n",
       "1  1947-04-01                        201.386\n",
       "2  1947-07-01                        195.461\n",
       "3  1947-10-01                        233.284\n",
       "4  1948-01-01                        257.220"
      ]
     },
     "execution_count": 16,
     "metadata": {},
     "output_type": "execute_result"
    }
   ],
   "source": [
    "url_rgdp = 'https://fred.stlouisfed.org/series/GPDIC1/downloaddata/GPDIC1.csv'\n",
    "data_rgdp = pd.read_csv(url_rgdp, parse_dates=True)\n",
    "data_rgdp.columns=['Date', 'Real Gross Private Investment']\n",
    "data_rgdp.head()"
   ]
  },
  {
   "cell_type": "code",
   "execution_count": null,
   "id": "13103166",
   "metadata": {},
   "outputs": [],
   "source": []
  }
 ],
 "metadata": {
  "kernelspec": {
   "display_name": "Python 3",
   "language": "python",
   "name": "python3"
  },
  "language_info": {
   "codemirror_mode": {
    "name": "ipython",
    "version": 3
   },
   "file_extension": ".py",
   "mimetype": "text/x-python",
   "name": "python",
   "nbconvert_exporter": "python",
   "pygments_lexer": "ipython3",
   "version": "3.8.8"
  }
 },
 "nbformat": 4,
 "nbformat_minor": 5
}
