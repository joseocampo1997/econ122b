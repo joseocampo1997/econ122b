{
 "cells": [
  {
   "cell_type": "markdown",
   "id": "ae0988c8",
   "metadata": {},
   "source": [
    "# The following includes necessary imports for our regression and figures illustrating our data and findings."
   ]
  },
  {
   "cell_type": "code",
   "execution_count": 1,
   "id": "69f80d3c",
   "metadata": {},
   "outputs": [],
   "source": [
    "import statsmodels.api as sm"
   ]
  },
  {
   "cell_type": "code",
   "execution_count": 2,
   "id": "a67ad8ef",
   "metadata": {},
   "outputs": [],
   "source": [
    "from statsmodels.iolib.summary2 import summary_col"
   ]
  },
  {
   "cell_type": "code",
   "execution_count": 3,
   "id": "2b7cb8cf",
   "metadata": {},
   "outputs": [],
   "source": [
    "import matplotlib.pyplot as plt"
   ]
  },
  {
   "cell_type": "code",
   "execution_count": 4,
   "id": "fc8ea016",
   "metadata": {},
   "outputs": [],
   "source": [
    "%matplotlib inline"
   ]
  },
  {
   "cell_type": "code",
   "execution_count": 5,
   "id": "4e581502",
   "metadata": {},
   "outputs": [],
   "source": [
    "import pandas as pd"
   ]
  },
  {
   "cell_type": "code",
   "execution_count": 6,
   "id": "c13b3d72",
   "metadata": {},
   "outputs": [],
   "source": [
    "import numpy as np"
   ]
  },
  {
   "cell_type": "markdown",
   "id": "5b61259e",
   "metadata": {},
   "source": [
    "# The following sections purpose is to access the data for the folloiwng procedures. Data we will access includes the Effective Federal Funds Rate, Personal Savings Rate, and Real Gross Private Investment Data."
   ]
  },
  {
   "cell_type": "code",
   "execution_count": 7,
   "id": "4893d474",
   "metadata": {},
   "outputs": [],
   "source": [
    "# The following code is to access our Personal Savings Rate data. \n",
    "#It will be accessed directly from Federal Reserve Economic Data (FRED)."
   ]
  },
  {
   "cell_type": "code",
   "execution_count": 8,
   "id": "da3fc04f",
   "metadata": {},
   "outputs": [
    {
     "data": {
      "text/html": [
       "<div>\n",
       "<style scoped>\n",
       "    .dataframe tbody tr th:only-of-type {\n",
       "        vertical-align: middle;\n",
       "    }\n",
       "\n",
       "    .dataframe tbody tr th {\n",
       "        vertical-align: top;\n",
       "    }\n",
       "\n",
       "    .dataframe thead th {\n",
       "        text-align: right;\n",
       "    }\n",
       "</style>\n",
       "<table border=\"1\" class=\"dataframe\">\n",
       "  <thead>\n",
       "    <tr style=\"text-align: right;\">\n",
       "      <th></th>\n",
       "      <th>Date</th>\n",
       "      <th>PSAVERT</th>\n",
       "    </tr>\n",
       "  </thead>\n",
       "  <tbody>\n",
       "    <tr>\n",
       "      <th>0</th>\n",
       "      <td>1959-01-01</td>\n",
       "      <td>11.3</td>\n",
       "    </tr>\n",
       "    <tr>\n",
       "      <th>1</th>\n",
       "      <td>1959-02-01</td>\n",
       "      <td>10.6</td>\n",
       "    </tr>\n",
       "    <tr>\n",
       "      <th>2</th>\n",
       "      <td>1959-03-01</td>\n",
       "      <td>10.3</td>\n",
       "    </tr>\n",
       "    <tr>\n",
       "      <th>3</th>\n",
       "      <td>1959-04-01</td>\n",
       "      <td>11.2</td>\n",
       "    </tr>\n",
       "    <tr>\n",
       "      <th>4</th>\n",
       "      <td>1959-05-01</td>\n",
       "      <td>10.6</td>\n",
       "    </tr>\n",
       "  </tbody>\n",
       "</table>\n",
       "</div>"
      ],
      "text/plain": [
       "         Date  PSAVERT\n",
       "0  1959-01-01     11.3\n",
       "1  1959-02-01     10.6\n",
       "2  1959-03-01     10.3\n",
       "3  1959-04-01     11.2\n",
       "4  1959-05-01     10.6"
      ]
     },
     "execution_count": 8,
     "metadata": {},
     "output_type": "execute_result"
    }
   ],
   "source": [
    "url_savings = 'https://fred.stlouisfed.org/series/PSAVERT/downloaddata/PSAVERT.csv'\n",
    "data_savings = pd.read_csv(url_savings, parse_dates=True)\n",
    "data_savings.columns= ['Date','PSAVERT']\n",
    "data_savings.head()"
   ]
  },
  {
   "cell_type": "code",
   "execution_count": null,
   "id": "da6799ca",
   "metadata": {},
   "outputs": [],
   "source": []
  }
 ],
 "metadata": {
  "kernelspec": {
   "display_name": "Python 3",
   "language": "python",
   "name": "python3"
  },
  "language_info": {
   "codemirror_mode": {
    "name": "ipython",
    "version": 3
   },
   "file_extension": ".py",
   "mimetype": "text/x-python",
   "name": "python",
   "nbconvert_exporter": "python",
   "pygments_lexer": "ipython3",
   "version": "3.8.8"
  }
 },
 "nbformat": 4,
 "nbformat_minor": 5
}
