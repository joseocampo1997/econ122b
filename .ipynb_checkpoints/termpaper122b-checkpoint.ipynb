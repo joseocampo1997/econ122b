{
 "cells": [
  {
   "cell_type": "markdown",
   "id": "6a91b694",
   "metadata": {},
   "source": [
    "# The following includes necessary imports for our regression and figures illustrating our data and findings."
   ]
  },
  {
   "cell_type": "code",
   "execution_count": 1,
   "id": "69f80d3c",
   "metadata": {},
   "outputs": [],
   "source": [
    "import statsmodels.api as sm"
   ]
  },
  {
   "cell_type": "code",
   "execution_count": 2,
   "id": "a67ad8ef",
   "metadata": {},
   "outputs": [],
   "source": [
    "from statsmodels.iolib.summary2 import summary_col"
   ]
  },
  {
   "cell_type": "code",
   "execution_count": 3,
   "id": "2b7cb8cf",
   "metadata": {},
   "outputs": [],
   "source": [
    "import matplotlib.pyplot as plt"
   ]
  },
  {
   "cell_type": "code",
   "execution_count": 4,
   "id": "ac01551d",
   "metadata": {},
   "outputs": [],
   "source": [
    "%matplotlib inline"
   ]
  },
  {
   "cell_type": "code",
   "execution_count": 5,
   "id": "4e581502",
   "metadata": {},
   "outputs": [],
   "source": [
    "import pandas as pd"
   ]
  },
  {
   "cell_type": "code",
   "execution_count": 6,
   "id": "c13b3d72",
   "metadata": {},
   "outputs": [],
   "source": [
    "import numpy as np"
   ]
  },
  {
   "cell_type": "code",
   "execution_count": 43,
   "id": "621b1187",
   "metadata": {},
   "outputs": [],
   "source": [
    "from numpy.polynomial.polynomial import polyfit"
   ]
  },
  {
   "cell_type": "markdown",
   "id": "35c1df7e",
   "metadata": {},
   "source": [
    "# The following sections' purpose is to access the data for our procedures. Data we will access includes the Effective Federal Funds Rate, Personal Savings Rate, and Real Gross Private Investment Data."
   ]
  },
  {
   "cell_type": "markdown",
   "id": "459ddf04",
   "metadata": {},
   "source": [
    "#### The following code is to access our Personal Savings Rate data. It will be accessed directly from Federal Reserve Economic Data (FRED)."
   ]
  },
  {
   "cell_type": "code",
   "execution_count": 12,
   "id": "76fdf10c",
   "metadata": {},
   "outputs": [
    {
     "data": {
      "text/html": [
       "<div>\n",
       "<style scoped>\n",
       "    .dataframe tbody tr th:only-of-type {\n",
       "        vertical-align: middle;\n",
       "    }\n",
       "\n",
       "    .dataframe tbody tr th {\n",
       "        vertical-align: top;\n",
       "    }\n",
       "\n",
       "    .dataframe thead th {\n",
       "        text-align: right;\n",
       "    }\n",
       "</style>\n",
       "<table border=\"1\" class=\"dataframe\">\n",
       "  <thead>\n",
       "    <tr style=\"text-align: right;\">\n",
       "      <th></th>\n",
       "      <th>Date</th>\n",
       "      <th>Personal Savings Rate</th>\n",
       "    </tr>\n",
       "  </thead>\n",
       "  <tbody>\n",
       "    <tr>\n",
       "      <th>0</th>\n",
       "      <td>1959-01-01</td>\n",
       "      <td>11.3</td>\n",
       "    </tr>\n",
       "    <tr>\n",
       "      <th>1</th>\n",
       "      <td>1959-02-01</td>\n",
       "      <td>10.6</td>\n",
       "    </tr>\n",
       "    <tr>\n",
       "      <th>2</th>\n",
       "      <td>1959-03-01</td>\n",
       "      <td>10.3</td>\n",
       "    </tr>\n",
       "    <tr>\n",
       "      <th>3</th>\n",
       "      <td>1959-04-01</td>\n",
       "      <td>11.2</td>\n",
       "    </tr>\n",
       "    <tr>\n",
       "      <th>4</th>\n",
       "      <td>1959-05-01</td>\n",
       "      <td>10.6</td>\n",
       "    </tr>\n",
       "  </tbody>\n",
       "</table>\n",
       "</div>"
      ],
      "text/plain": [
       "         Date  Personal Savings Rate\n",
       "0  1959-01-01                   11.3\n",
       "1  1959-02-01                   10.6\n",
       "2  1959-03-01                   10.3\n",
       "3  1959-04-01                   11.2\n",
       "4  1959-05-01                   10.6"
      ]
     },
     "execution_count": 12,
     "metadata": {},
     "output_type": "execute_result"
    }
   ],
   "source": [
    "url_savings = 'https://fred.stlouisfed.org/series/PSAVERT/downloaddata/PSAVERT.csv'\n",
    "data_savings = pd.read_csv(url_savings, parse_dates=True)\n",
    "data_savings.columns= ['Date','Personal Savings Rate']\n",
    "data_savings.head()"
   ]
  },
  {
   "cell_type": "markdown",
   "id": "f3a3cd6e",
   "metadata": {},
   "source": [
    "#### The following code is to access our Federal Funds Rate data. It will be accessed directly from Federal Reserve Economic Data (FRED)."
   ]
  },
  {
   "cell_type": "code",
   "execution_count": 13,
   "id": "91d81c54",
   "metadata": {},
   "outputs": [
    {
     "data": {
      "text/html": [
       "<div>\n",
       "<style scoped>\n",
       "    .dataframe tbody tr th:only-of-type {\n",
       "        vertical-align: middle;\n",
       "    }\n",
       "\n",
       "    .dataframe tbody tr th {\n",
       "        vertical-align: top;\n",
       "    }\n",
       "\n",
       "    .dataframe thead th {\n",
       "        text-align: right;\n",
       "    }\n",
       "</style>\n",
       "<table border=\"1\" class=\"dataframe\">\n",
       "  <thead>\n",
       "    <tr style=\"text-align: right;\">\n",
       "      <th></th>\n",
       "      <th>Date</th>\n",
       "      <th>Federal Funds Rate</th>\n",
       "    </tr>\n",
       "  </thead>\n",
       "  <tbody>\n",
       "    <tr>\n",
       "      <th>0</th>\n",
       "      <td>1954-07-01</td>\n",
       "      <td>0.80</td>\n",
       "    </tr>\n",
       "    <tr>\n",
       "      <th>1</th>\n",
       "      <td>1954-08-01</td>\n",
       "      <td>1.22</td>\n",
       "    </tr>\n",
       "    <tr>\n",
       "      <th>2</th>\n",
       "      <td>1954-09-01</td>\n",
       "      <td>1.07</td>\n",
       "    </tr>\n",
       "    <tr>\n",
       "      <th>3</th>\n",
       "      <td>1954-10-01</td>\n",
       "      <td>0.85</td>\n",
       "    </tr>\n",
       "    <tr>\n",
       "      <th>4</th>\n",
       "      <td>1954-11-01</td>\n",
       "      <td>0.83</td>\n",
       "    </tr>\n",
       "  </tbody>\n",
       "</table>\n",
       "</div>"
      ],
      "text/plain": [
       "         Date  Federal Funds Rate\n",
       "0  1954-07-01                0.80\n",
       "1  1954-08-01                1.22\n",
       "2  1954-09-01                1.07\n",
       "3  1954-10-01                0.85\n",
       "4  1954-11-01                0.83"
      ]
     },
     "execution_count": 13,
     "metadata": {},
     "output_type": "execute_result"
    }
   ],
   "source": [
    "url_fed = 'https://fred.stlouisfed.org/series/FEDFUNDS/downloaddata/FEDFUNDS.csv'\n",
    "data_fed= pd.read_csv(url_fed, parse_dates=True)\n",
    "data_fed.columns=['Date', 'Federal Funds Rate']\n",
    "data_fed.head()"
   ]
  },
  {
   "cell_type": "markdown",
   "id": "5111a51b",
   "metadata": {},
   "source": [
    "#### The following code is to access our Real Gross Private Investment data. It will be accessed directly from Federal Reserve Economic Data (FRED)."
   ]
  },
  {
   "cell_type": "code",
   "execution_count": 16,
   "id": "00c00431",
   "metadata": {},
   "outputs": [
    {
     "data": {
      "text/html": [
       "<div>\n",
       "<style scoped>\n",
       "    .dataframe tbody tr th:only-of-type {\n",
       "        vertical-align: middle;\n",
       "    }\n",
       "\n",
       "    .dataframe tbody tr th {\n",
       "        vertical-align: top;\n",
       "    }\n",
       "\n",
       "    .dataframe thead th {\n",
       "        text-align: right;\n",
       "    }\n",
       "</style>\n",
       "<table border=\"1\" class=\"dataframe\">\n",
       "  <thead>\n",
       "    <tr style=\"text-align: right;\">\n",
       "      <th></th>\n",
       "      <th>Date</th>\n",
       "      <th>Real Gross Private Investment</th>\n",
       "    </tr>\n",
       "  </thead>\n",
       "  <tbody>\n",
       "    <tr>\n",
       "      <th>0</th>\n",
       "      <td>1947-01-01</td>\n",
       "      <td>218.091</td>\n",
       "    </tr>\n",
       "    <tr>\n",
       "      <th>1</th>\n",
       "      <td>1947-04-01</td>\n",
       "      <td>201.386</td>\n",
       "    </tr>\n",
       "    <tr>\n",
       "      <th>2</th>\n",
       "      <td>1947-07-01</td>\n",
       "      <td>195.461</td>\n",
       "    </tr>\n",
       "    <tr>\n",
       "      <th>3</th>\n",
       "      <td>1947-10-01</td>\n",
       "      <td>233.284</td>\n",
       "    </tr>\n",
       "    <tr>\n",
       "      <th>4</th>\n",
       "      <td>1948-01-01</td>\n",
       "      <td>257.220</td>\n",
       "    </tr>\n",
       "  </tbody>\n",
       "</table>\n",
       "</div>"
      ],
      "text/plain": [
       "         Date  Real Gross Private Investment\n",
       "0  1947-01-01                        218.091\n",
       "1  1947-04-01                        201.386\n",
       "2  1947-07-01                        195.461\n",
       "3  1947-10-01                        233.284\n",
       "4  1948-01-01                        257.220"
      ]
     },
     "execution_count": 16,
     "metadata": {},
     "output_type": "execute_result"
    }
   ],
   "source": [
    "url_rgdp = 'https://fred.stlouisfed.org/series/GPDIC1/downloaddata/GPDIC1.csv'\n",
    "data_rgdp = pd.read_csv(url_rgdp, parse_dates=True)\n",
    "data_rgdp.columns=['Date', 'Real Gross Private Investment']\n",
    "data_rgdp.head()"
   ]
  },
  {
   "cell_type": "markdown",
   "id": "3dd3f567",
   "metadata": {},
   "source": [
    "# The following sections' purpose is to provide description and tables for Effective Federal Funds Rate, Personal Savings Rate, and Real Gross Private Investment Data."
   ]
  },
  {
   "cell_type": "markdown",
   "id": "550b96a5",
   "metadata": {},
   "source": [
    "## Personal Savings Rate"
   ]
  },
  {
   "cell_type": "code",
   "execution_count": 18,
   "id": "6325b048",
   "metadata": {},
   "outputs": [
    {
     "data": {
      "text/html": [
       "<div>\n",
       "<style scoped>\n",
       "    .dataframe tbody tr th:only-of-type {\n",
       "        vertical-align: middle;\n",
       "    }\n",
       "\n",
       "    .dataframe tbody tr th {\n",
       "        vertical-align: top;\n",
       "    }\n",
       "\n",
       "    .dataframe thead th {\n",
       "        text-align: right;\n",
       "    }\n",
       "</style>\n",
       "<table border=\"1\" class=\"dataframe\">\n",
       "  <thead>\n",
       "    <tr style=\"text-align: right;\">\n",
       "      <th></th>\n",
       "      <th>Personal Savings Rate</th>\n",
       "    </tr>\n",
       "  </thead>\n",
       "  <tbody>\n",
       "    <tr>\n",
       "      <th>count</th>\n",
       "      <td>748.000000</td>\n",
       "    </tr>\n",
       "    <tr>\n",
       "      <th>mean</th>\n",
       "      <td>8.991176</td>\n",
       "    </tr>\n",
       "    <tr>\n",
       "      <th>std</th>\n",
       "      <td>3.184577</td>\n",
       "    </tr>\n",
       "    <tr>\n",
       "      <th>min</th>\n",
       "      <td>2.200000</td>\n",
       "    </tr>\n",
       "    <tr>\n",
       "      <th>25%</th>\n",
       "      <td>6.775000</td>\n",
       "    </tr>\n",
       "    <tr>\n",
       "      <th>50%</th>\n",
       "      <td>8.700000</td>\n",
       "    </tr>\n",
       "    <tr>\n",
       "      <th>75%</th>\n",
       "      <td>11.300000</td>\n",
       "    </tr>\n",
       "    <tr>\n",
       "      <th>max</th>\n",
       "      <td>33.700000</td>\n",
       "    </tr>\n",
       "  </tbody>\n",
       "</table>\n",
       "</div>"
      ],
      "text/plain": [
       "       Personal Savings Rate\n",
       "count             748.000000\n",
       "mean                8.991176\n",
       "std                 3.184577\n",
       "min                 2.200000\n",
       "25%                 6.775000\n",
       "50%                 8.700000\n",
       "75%                11.300000\n",
       "max                33.700000"
      ]
     },
     "execution_count": 18,
     "metadata": {},
     "output_type": "execute_result"
    }
   ],
   "source": [
    "data_savings.describe()"
   ]
  },
  {
   "cell_type": "code",
   "execution_count": 40,
   "id": "1df11dde",
   "metadata": {},
   "outputs": [
    {
     "data": {
      "image/png": "[encoded data removed]",
      "text/plain": [
       "<Figure size 864x432 with 1 Axes>"
      ]
     },
     "metadata": {
      "needs_background": "light"
     },
     "output_type": "display_data"
    }
   ],
   "source": [
    "datasavings=data_savings.set_index('Date')\n",
    "ax = datasavings['1950':'2021'].plot(title='Personal Savings Rate', legend=False, figsize=(12,6))\n",
    "ax.set_xlabel('Year', fontsize=15)\n",
    "ax.set_ylabel('%', fontsize=15)\n",
    "plt.show()"
   ]
  },
  {
   "cell_type": "markdown",
   "id": "51840178",
   "metadata": {},
   "source": [
    "## Federal Funds Rate"
   ]
  },
  {
   "cell_type": "code",
   "execution_count": 19,
   "id": "c60f9e70",
   "metadata": {},
   "outputs": [
    {
     "data": {
      "text/html": [
       "<div>\n",
       "<style scoped>\n",
       "    .dataframe tbody tr th:only-of-type {\n",
       "        vertical-align: middle;\n",
       "    }\n",
       "\n",
       "    .dataframe tbody tr th {\n",
       "        vertical-align: top;\n",
       "    }\n",
       "\n",
       "    .dataframe thead th {\n",
       "        text-align: right;\n",
       "    }\n",
       "</style>\n",
       "<table border=\"1\" class=\"dataframe\">\n",
       "  <thead>\n",
       "    <tr style=\"text-align: right;\">\n",
       "      <th></th>\n",
       "      <th>Federal Funds Rate</th>\n",
       "    </tr>\n",
       "  </thead>\n",
       "  <tbody>\n",
       "    <tr>\n",
       "      <th>count</th>\n",
       "      <td>803.000000</td>\n",
       "    </tr>\n",
       "    <tr>\n",
       "      <th>mean</th>\n",
       "      <td>4.678344</td>\n",
       "    </tr>\n",
       "    <tr>\n",
       "      <th>std</th>\n",
       "      <td>3.613757</td>\n",
       "    </tr>\n",
       "    <tr>\n",
       "      <th>min</th>\n",
       "      <td>0.050000</td>\n",
       "    </tr>\n",
       "    <tr>\n",
       "      <th>25%</th>\n",
       "      <td>1.910000</td>\n",
       "    </tr>\n",
       "    <tr>\n",
       "      <th>50%</th>\n",
       "      <td>4.250000</td>\n",
       "    </tr>\n",
       "    <tr>\n",
       "      <th>75%</th>\n",
       "      <td>6.450000</td>\n",
       "    </tr>\n",
       "    <tr>\n",
       "      <th>max</th>\n",
       "      <td>19.100000</td>\n",
       "    </tr>\n",
       "  </tbody>\n",
       "</table>\n",
       "</div>"
      ],
      "text/plain": [
       "       Federal Funds Rate\n",
       "count          803.000000\n",
       "mean             4.678344\n",
       "std              3.613757\n",
       "min              0.050000\n",
       "25%              1.910000\n",
       "50%              4.250000\n",
       "75%              6.450000\n",
       "max             19.100000"
      ]
     },
     "execution_count": 19,
     "metadata": {},
     "output_type": "execute_result"
    }
   ],
   "source": [
    "data_fed.describe()"
   ]
  },
  {
   "cell_type": "code",
   "execution_count": 39,
   "id": "5faa8cff",
   "metadata": {},
   "outputs": [
    {
     "data": {
      "image/png": "[encoded data removed]",
      "text/plain": [
       "<Figure size 864x432 with 1 Axes>"
      ]
     },
     "metadata": {
      "needs_background": "light"
     },
     "output_type": "display_data"
    }
   ],
   "source": [
    "datafed=data_fed.set_index('Date')\n",
    "ax = datafed['1950':'2021'].plot(title='Effective Federal Funds Rate', legend=False, figsize=(12,6))\n",
    "ax.set_xlabel('Year', fontsize=15)\n",
    "ax.set_ylabel('%', fontsize=15)\n",
    "plt.show()"
   ]
  },
  {
   "cell_type": "markdown",
   "id": "988d04d1",
   "metadata": {},
   "source": [
    "## Real Gross Private Investment"
   ]
  },
  {
   "cell_type": "code",
   "execution_count": 20,
   "id": "33b9ab90",
   "metadata": {},
   "outputs": [
    {
     "data": {
      "text/html": [
       "<div>\n",
       "<style scoped>\n",
       "    .dataframe tbody tr th:only-of-type {\n",
       "        vertical-align: middle;\n",
       "    }\n",
       "\n",
       "    .dataframe tbody tr th {\n",
       "        vertical-align: top;\n",
       "    }\n",
       "\n",
       "    .dataframe thead th {\n",
       "        text-align: right;\n",
       "    }\n",
       "</style>\n",
       "<table border=\"1\" class=\"dataframe\">\n",
       "  <thead>\n",
       "    <tr style=\"text-align: right;\">\n",
       "      <th></th>\n",
       "      <th>Real Gross Private Investment</th>\n",
       "    </tr>\n",
       "  </thead>\n",
       "  <tbody>\n",
       "    <tr>\n",
       "      <th>count</th>\n",
       "      <td>297.000000</td>\n",
       "    </tr>\n",
       "    <tr>\n",
       "      <th>mean</th>\n",
       "      <td>1341.508360</td>\n",
       "    </tr>\n",
       "    <tr>\n",
       "      <th>std</th>\n",
       "      <td>984.607488</td>\n",
       "    </tr>\n",
       "    <tr>\n",
       "      <th>min</th>\n",
       "      <td>193.795000</td>\n",
       "    </tr>\n",
       "    <tr>\n",
       "      <th>25%</th>\n",
       "      <td>527.578000</td>\n",
       "    </tr>\n",
       "    <tr>\n",
       "      <th>50%</th>\n",
       "      <td>1108.328000</td>\n",
       "    </tr>\n",
       "    <tr>\n",
       "      <th>75%</th>\n",
       "      <td>2218.370000</td>\n",
       "    </tr>\n",
       "    <tr>\n",
       "      <th>max</th>\n",
       "      <td>3539.863000</td>\n",
       "    </tr>\n",
       "  </tbody>\n",
       "</table>\n",
       "</div>"
      ],
      "text/plain": [
       "       Real Gross Private Investment\n",
       "count                     297.000000\n",
       "mean                     1341.508360\n",
       "std                       984.607488\n",
       "min                       193.795000\n",
       "25%                       527.578000\n",
       "50%                      1108.328000\n",
       "75%                      2218.370000\n",
       "max                      3539.863000"
      ]
     },
     "execution_count": 20,
     "metadata": {},
     "output_type": "execute_result"
    }
   ],
   "source": [
    "data_rgdp.describe()"
   ]
  },
  {
   "cell_type": "code",
   "execution_count": 38,
   "id": "a6eaabc7",
   "metadata": {},
   "outputs": [
    {
     "data": {
      "image/png": "[encoded data removed]",
      "text/plain": [
       "<Figure size 864x432 with 1 Axes>"
      ]
     },
     "metadata": {
      "needs_background": "light"
     },
     "output_type": "display_data"
    }
   ],
   "source": [
    "datargdp=data_rgdp.set_index('Date')\n",
    "ax = datargdp['1950':'2021'].plot(title='Real Gross Private Investment', legend=False, figsize=(12,6))\n",
    "ax.set_xlabel('Year', fontsize=15)\n",
    "ax.set_ylabel('%', fontsize=15)\n",
    "plt.show()"
   ]
  },
  {
   "cell_type": "markdown",
   "id": "1f245eb4",
   "metadata": {},
   "source": [
    "# Fed Fund Rate Correlation Analysis"
   ]
  },
  {
   "cell_type": "markdown",
   "id": "9adcd965",
   "metadata": {},
   "source": [
    "### Fed Fund Rate and Personal Savings Rate"
   ]
  },
  {
   "cell_type": "code",
   "execution_count": 47,
   "id": "82ee6cc3",
   "metadata": {},
   "outputs": [
    {
     "data": {
      "text/html": [
       "<div>\n",
       "<style scoped>\n",
       "    .dataframe tbody tr th:only-of-type {\n",
       "        vertical-align: middle;\n",
       "    }\n",
       "\n",
       "    .dataframe tbody tr th {\n",
       "        vertical-align: top;\n",
       "    }\n",
       "\n",
       "    .dataframe thead th {\n",
       "        text-align: right;\n",
       "    }\n",
       "</style>\n",
       "<table border=\"1\" class=\"dataframe\">\n",
       "  <thead>\n",
       "    <tr style=\"text-align: right;\">\n",
       "      <th></th>\n",
       "      <th>Date</th>\n",
       "      <th>Personal Savings Rate</th>\n",
       "      <th>Federal Funds Rate</th>\n",
       "    </tr>\n",
       "  </thead>\n",
       "  <tbody>\n",
       "    <tr>\n",
       "      <th>0</th>\n",
       "      <td>1959-01-01</td>\n",
       "      <td>11.3</td>\n",
       "      <td>2.48</td>\n",
       "    </tr>\n",
       "    <tr>\n",
       "      <th>1</th>\n",
       "      <td>1959-02-01</td>\n",
       "      <td>10.6</td>\n",
       "      <td>2.43</td>\n",
       "    </tr>\n",
       "    <tr>\n",
       "      <th>2</th>\n",
       "      <td>1959-03-01</td>\n",
       "      <td>10.3</td>\n",
       "      <td>2.80</td>\n",
       "    </tr>\n",
       "    <tr>\n",
       "      <th>3</th>\n",
       "      <td>1959-04-01</td>\n",
       "      <td>11.2</td>\n",
       "      <td>2.96</td>\n",
       "    </tr>\n",
       "    <tr>\n",
       "      <th>4</th>\n",
       "      <td>1959-05-01</td>\n",
       "      <td>10.6</td>\n",
       "      <td>2.90</td>\n",
       "    </tr>\n",
       "    <tr>\n",
       "      <th>...</th>\n",
       "      <td>...</td>\n",
       "      <td>...</td>\n",
       "      <td>...</td>\n",
       "    </tr>\n",
       "    <tr>\n",
       "      <th>743</th>\n",
       "      <td>2020-12-01</td>\n",
       "      <td>14.2</td>\n",
       "      <td>0.09</td>\n",
       "    </tr>\n",
       "    <tr>\n",
       "      <th>744</th>\n",
       "      <td>2021-01-01</td>\n",
       "      <td>20.6</td>\n",
       "      <td>0.09</td>\n",
       "    </tr>\n",
       "    <tr>\n",
       "      <th>745</th>\n",
       "      <td>2021-02-01</td>\n",
       "      <td>14.7</td>\n",
       "      <td>0.08</td>\n",
       "    </tr>\n",
       "    <tr>\n",
       "      <th>746</th>\n",
       "      <td>2021-03-01</td>\n",
       "      <td>27.7</td>\n",
       "      <td>0.07</td>\n",
       "    </tr>\n",
       "    <tr>\n",
       "      <th>747</th>\n",
       "      <td>2021-04-01</td>\n",
       "      <td>14.9</td>\n",
       "      <td>0.07</td>\n",
       "    </tr>\n",
       "  </tbody>\n",
       "</table>\n",
       "<p>748 rows × 3 columns</p>\n",
       "</div>"
      ],
      "text/plain": [
       "           Date  Personal Savings Rate  Federal Funds Rate\n",
       "0    1959-01-01                   11.3                2.48\n",
       "1    1959-02-01                   10.6                2.43\n",
       "2    1959-03-01                   10.3                2.80\n",
       "3    1959-04-01                   11.2                2.96\n",
       "4    1959-05-01                   10.6                2.90\n",
       "..          ...                    ...                 ...\n",
       "743  2020-12-01                   14.2                0.09\n",
       "744  2021-01-01                   20.6                0.09\n",
       "745  2021-02-01                   14.7                0.08\n",
       "746  2021-03-01                   27.7                0.07\n",
       "747  2021-04-01                   14.9                0.07\n",
       "\n",
       "[748 rows x 3 columns]"
      ]
     },
     "execution_count": 47,
     "metadata": {},
     "output_type": "execute_result"
    }
   ],
   "source": [
    "data_merge=pd.merge(data_savings, data_fed, how='inner', on='Date', left_on=None, right_on=None,\n",
    "         left_index=False, right_index=False, sort=True,\n",
    "         suffixes=('_x', '_y'), copy=True, indicator=False,\n",
    "         validate=None)\n",
    "data_merge.head()\n",
    "data_merge.fillna(0)"
   ]
  },
  {
   "cell_type": "code",
   "execution_count": 49,
   "id": "035f9f79",
   "metadata": {},
   "outputs": [
    {
     "data": {
      "text/plain": [
       "[<matplotlib.lines.Line2D at 0x134f278a280>]"
      ]
     },
     "execution_count": 49,
     "metadata": {},
     "output_type": "execute_result"
    },
    {
     "data": {
      "image/png": "[encoded data removed]",
      "text/plain": [
       "<Figure size 432x288 with 1 Axes>"
      ]
     },
     "metadata": {
      "needs_background": "light"
     },
     "output_type": "display_data"
    }
   ],
   "source": [
    "fig,ax=plt.subplots()\n",
    "ax.plot(data_merge['Federal Funds Rate'],data_merge['Personal Savings Rate'],'b*')\n",
    "ax.set_xlabel(\"Federal Funds Rate\")\n",
    "ax.set_ylabel(\"Personal Savings Rate\")\n",
    "b,m=polyfit(data_merge['Federal Funds Rate'],data_merge['Personal Savings Rate'],1)\n",
    "ax.plot(data_merge['Federal Funds Rate'],b+m*data_merge['Federal Funds Rate'],'-')"
   ]
  },
  {
   "cell_type": "markdown",
   "id": "1dc36c62",
   "metadata": {},
   "source": [
    "### Fed Fund Rate and Real Gross Private Investment"
   ]
  },
  {
   "cell_type": "code",
   "execution_count": 50,
   "id": "dd45da38",
   "metadata": {},
   "outputs": [
    {
     "data": {
      "text/html": [
       "<div>\n",
       "<style scoped>\n",
       "    .dataframe tbody tr th:only-of-type {\n",
       "        vertical-align: middle;\n",
       "    }\n",
       "\n",
       "    .dataframe tbody tr th {\n",
       "        vertical-align: top;\n",
       "    }\n",
       "\n",
       "    .dataframe thead th {\n",
       "        text-align: right;\n",
       "    }\n",
       "</style>\n",
       "<table border=\"1\" class=\"dataframe\">\n",
       "  <thead>\n",
       "    <tr style=\"text-align: right;\">\n",
       "      <th></th>\n",
       "      <th>Date</th>\n",
       "      <th>Real Gross Private Investment</th>\n",
       "      <th>Federal Funds Rate</th>\n",
       "    </tr>\n",
       "  </thead>\n",
       "  <tbody>\n",
       "    <tr>\n",
       "      <th>0</th>\n",
       "      <td>1954-07-01</td>\n",
       "      <td>272.037</td>\n",
       "      <td>0.80</td>\n",
       "    </tr>\n",
       "    <tr>\n",
       "      <th>1</th>\n",
       "      <td>1954-10-01</td>\n",
       "      <td>283.968</td>\n",
       "      <td>0.85</td>\n",
       "    </tr>\n",
       "    <tr>\n",
       "      <th>2</th>\n",
       "      <td>1955-01-01</td>\n",
       "      <td>312.337</td>\n",
       "      <td>1.39</td>\n",
       "    </tr>\n",
       "    <tr>\n",
       "      <th>3</th>\n",
       "      <td>1955-04-01</td>\n",
       "      <td>331.333</td>\n",
       "      <td>1.43</td>\n",
       "    </tr>\n",
       "    <tr>\n",
       "      <th>4</th>\n",
       "      <td>1955-07-01</td>\n",
       "      <td>336.418</td>\n",
       "      <td>1.68</td>\n",
       "    </tr>\n",
       "    <tr>\n",
       "      <th>...</th>\n",
       "      <td>...</td>\n",
       "      <td>...</td>\n",
       "      <td>...</td>\n",
       "    </tr>\n",
       "    <tr>\n",
       "      <th>262</th>\n",
       "      <td>2020-01-01</td>\n",
       "      <td>3333.963</td>\n",
       "      <td>1.55</td>\n",
       "    </tr>\n",
       "    <tr>\n",
       "      <th>263</th>\n",
       "      <td>2020-04-01</td>\n",
       "      <td>2849.792</td>\n",
       "      <td>0.05</td>\n",
       "    </tr>\n",
       "    <tr>\n",
       "      <th>264</th>\n",
       "      <td>2020-07-01</td>\n",
       "      <td>3329.625</td>\n",
       "      <td>0.09</td>\n",
       "    </tr>\n",
       "    <tr>\n",
       "      <th>265</th>\n",
       "      <td>2020-10-01</td>\n",
       "      <td>3539.863</td>\n",
       "      <td>0.09</td>\n",
       "    </tr>\n",
       "    <tr>\n",
       "      <th>266</th>\n",
       "      <td>2021-01-01</td>\n",
       "      <td>3497.549</td>\n",
       "      <td>0.09</td>\n",
       "    </tr>\n",
       "  </tbody>\n",
       "</table>\n",
       "<p>267 rows × 3 columns</p>\n",
       "</div>"
      ],
      "text/plain": [
       "           Date  Real Gross Private Investment  Federal Funds Rate\n",
       "0    1954-07-01                        272.037                0.80\n",
       "1    1954-10-01                        283.968                0.85\n",
       "2    1955-01-01                        312.337                1.39\n",
       "3    1955-04-01                        331.333                1.43\n",
       "4    1955-07-01                        336.418                1.68\n",
       "..          ...                            ...                 ...\n",
       "262  2020-01-01                       3333.963                1.55\n",
       "263  2020-04-01                       2849.792                0.05\n",
       "264  2020-07-01                       3329.625                0.09\n",
       "265  2020-10-01                       3539.863                0.09\n",
       "266  2021-01-01                       3497.549                0.09\n",
       "\n",
       "[267 rows x 3 columns]"
      ]
     },
     "execution_count": 50,
     "metadata": {},
     "output_type": "execute_result"
    }
   ],
   "source": [
    "data_merge2=pd.merge(data_rgdp, data_fed, how='inner', on='Date', left_on=None, right_on=None,\n",
    "         left_index=False, right_index=False, sort=True,\n",
    "         suffixes=('_x', '_y'), copy=True, indicator=False,\n",
    "         validate=None)\n",
    "data_merge2.head()\n",
    "data_merge2.fillna(0)"
   ]
  },
  {
   "cell_type": "code",
   "execution_count": 52,
   "id": "7ce371a2",
   "metadata": {},
   "outputs": [
    {
     "data": {
      "text/plain": [
       "[<matplotlib.lines.Line2D at 0x134f2d562b0>]"
      ]
     },
     "execution_count": 52,
     "metadata": {},
     "output_type": "execute_result"
    },
    {
     "data": {
      "image/png": "[encoded data removed]",
      "text/plain": [
       "<Figure size 432x288 with 1 Axes>"
      ]
     },
     "metadata": {
      "needs_background": "light"
     },
     "output_type": "display_data"
    }
   ],
   "source": [
    "fig,ax=plt.subplots()\n",
    "ax.plot(data_merge2['Federal Funds Rate'],data_merge2['Real Gross Private Investment'],'b*')\n",
    "ax.set_xlabel(\"Federal Funds Rate\")\n",
    "ax.set_ylabel(\"Real Gross Private Investment\")\n",
    "b,m=polyfit(data_merge2['Federal Funds Rate'],data_merge2['Real Gross Private Investment'],1)\n",
    "ax.plot(data_merge2['Federal Funds Rate'],b+m*data_merge2['Federal Funds Rate'],'-')"
   ]
  },
  {
   "cell_type": "code",
   "execution_count": null,
   "id": "5c7d2497",
   "metadata": {},
   "outputs": [],
   "source": []
  }
 ],
 "metadata": {
  "kernelspec": {
   "display_name": "Python 3",
   "language": "python",
   "name": "python3"
  },
  "language_info": {
   "codemirror_mode": {
    "name": "ipython",
    "version": 3
   },
   "file_extension": ".py",
   "mimetype": "text/x-python",
   "name": "python",
   "nbconvert_exporter": "python",
   "pygments_lexer": "ipython3",
   "version": "3.8.8"
  }
 },
 "nbformat": 4,
 "nbformat_minor": 5
}
